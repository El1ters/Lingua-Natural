{
 "cells": [
  {
   "cell_type": "markdown",
   "metadata": {},
   "source": [
    "\n",
    "## 1. Imports"
   ]
  },
  {
   "cell_type": "code",
   "execution_count": 29,
   "metadata": {},
   "outputs": [],
   "source": [
    "import numpy as np\n",
    "import pandas as pd\n",
    "from sklearn.feature_extraction.text import TfidfTransformer\n",
    "from sklearn.feature_extraction.text import CountVectorizer\n",
    "from sklearn.feature_extraction.text import TfidfVectorizer\n",
    "from sklearn.model_selection import train_test_split\n",
    "from sklearn.preprocessing import LabelEncoder\n",
    "import nltk\n",
    "import re\n",
    "from nltk.stem import PorterStemmer\n",
    "from sklearn.naive_bayes import GaussianNB\n",
    "from sklearn.naive_bayes import MultinomialNB\n",
    "from sklearn import svm\n",
    "from sklearn.metrics import classification_report"
   ]
  },
  {
   "cell_type": "markdown",
   "metadata": {},
   "source": [
    "## 2. Dataset load"
   ]
  },
  {
   "cell_type": "code",
   "execution_count": 30,
   "metadata": {},
   "outputs": [
    {
     "name": "stdout",
     "output_type": "stream",
     "text": [
      "     genre                                               plot\n",
      "0  romance  Sekhar (Tarun) is a graduate from IIM and work...\n",
      "1   horror  Kris Fowles (Katie Cassidy) goes to the Spring...\n",
      "2   horror  Cynthia is traumatized by the death of her bab...\n",
      "3    crime  Four friends, Gangu (Jackie Shroff), Abdul (Na...\n",
      "4    drama  Crisis in a middle-class family when the son f...\n"
     ]
    }
   ],
   "source": [
    "#FILE_NAME = \"train.txt\"\n",
    "#FILE_NAME = \"train_subset_1000.txt\"\n",
    "#FILE_NAME = \"train_subset_2500.txt\"\n",
    "FILE_NAME = \"train_subset_5000.txt\"\n",
    "file = open(FILE_NAME, \"r\", encoding=\"utf-8\")\n",
    "data = file.readlines()\n",
    "\n",
    "data = [i.split(\"\\t\") for i in data]\n",
    "\n",
    "df = [[row[2], row[4]] for row in data]  # Extract 2nd and 4th elements\n",
    "df = pd.DataFrame(df, columns = ['genre', 'plot'])\n",
    "print(df.head())\n"
   ]
  },
  {
   "cell_type": "markdown",
   "metadata": {},
   "source": [
    "## 3. Pre-processing"
   ]
  },
  {
   "cell_type": "code",
   "execution_count": 31,
   "metadata": {},
   "outputs": [
    {
     "name": "stdout",
     "output_type": "stream",
     "text": [
      "['action', 'animation', 'comedy', 'crime', 'drama', 'horror', 'romance', 'sci-fi', 'western']\n"
     ]
    }
   ],
   "source": [
    "porter_stemmer=PorterStemmer()\n",
    "def processSentence(s):\n",
    "    words=re.split(\"\\\\s+\",s)\n",
    "    stemmed_words=[porter_stemmer.stem(word=w) for w in words]\n",
    "    return ' '.join(stemmed_words)\n",
    "\n",
    "x_processed = [processSentence(x) for x in df[\"plot\"]]\n",
    "\n",
    "labels = np.unique(df[\"genre\"]).tolist()\n",
    "\n",
    "print(labels)\n"
   ]
  },
  {
   "cell_type": "markdown",
   "metadata": {},
   "source": [
    "## 4. Create Vectors"
   ]
  },
  {
   "cell_type": "code",
   "execution_count": 32,
   "metadata": {},
   "outputs": [],
   "source": [
    "tfidf_vectorizer = TfidfVectorizer(ngram_range=(1,3), stop_words='english', min_df=0.001, max_features=2500)\n",
    "count_vectorizer = CountVectorizer(ngram_range=(1,3), stop_words ='english', min_df=0.001, max_features=2500)\n",
    "\n",
    "X = tfidf_vectorizer.fit_transform(x_processed).toarray()\n",
    "Z = count_vectorizer.fit_transform(x_processed).toarray()"
   ]
  },
  {
   "cell_type": "markdown",
   "metadata": {},
   "source": [
    "## Train/test split\n"
   ]
  },
  {
   "cell_type": "code",
   "execution_count": 33,
   "metadata": {},
   "outputs": [
    {
     "name": "stdout",
     "output_type": "stream",
     "text": [
      "range(0, 5000)\n"
     ]
    }
   ],
   "source": [
    "indices = range(len(df))\n",
    "print(indices)\n",
    "train_indices, test_test, y_train, y_test = train_test_split(indices, df[\"genre\"], test_size=0.2, random_state=42)\n",
    "\n",
    "X_train,X_test = X[train_indices],X[test_test]\n",
    "Z_train,Z_test = Z[train_indices],Z[test_test]"
   ]
  },
  {
   "cell_type": "markdown",
   "metadata": {},
   "source": [
    "## Train with classic classifiers"
   ]
  },
  {
   "cell_type": "code",
   "execution_count": 25,
   "metadata": {},
   "outputs": [
    {
     "name": "stdout",
     "output_type": "stream",
     "text": [
      "==== SVM ====\n",
      "Resultados com tfidf\n",
      "              precision    recall  f1-score   support\n",
      "\n",
      "      action       0.59      0.55      0.57       135\n",
      "   animation       0.66      0.71      0.68        65\n",
      "      comedy       0.46      0.45      0.46       132\n",
      "       crime       0.51      0.31      0.38        72\n",
      "       drama       0.50      0.51      0.50       215\n",
      "      horror       0.66      0.88      0.75       128\n",
      "     romance       0.59      0.54      0.57       118\n",
      "      sci-fi       0.53      0.31      0.39        29\n",
      "     western       0.77      0.88      0.82       106\n",
      "\n",
      "    accuracy                           0.59      1000\n",
      "   macro avg       0.59      0.57      0.57      1000\n",
      "weighted avg       0.58      0.59      0.58      1000\n",
      "\n"
     ]
    }
   ],
   "source": [
    "from sklearn.multiclass import OneVsRestClassifier\n",
    "\n",
    "print(\"==== SVM ====\")\n",
    "clf = OneVsRestClassifier(svm.SVC(kernel='linear')) # kernel{‘linear’, ‘poly’, ‘rbf’, ‘sigmoid’, ‘precomputed’}\n",
    "#clf = svm.SVC(kernel='linear') # kernel{‘linear’, ‘poly’, ‘rbf’, ‘sigmoid’, ‘precomputed’}\n",
    "\n",
    "print(\"Resultados com tfidf\")\n",
    "clf.fit(X_train, y_train)\n",
    "y_pred = clf.predict(X_test)\n",
    "print(classification_report(y_pred = y_pred, y_true = y_test, labels=labels, zero_division=1.))\n"
   ]
  },
  {
   "cell_type": "code",
   "execution_count": 26,
   "metadata": {},
   "outputs": [
    {
     "name": "stdout",
     "output_type": "stream",
     "text": [
      "(9,)\n",
      "==== action ====\n",
      "kill: 2.7651499564530493\n",
      "fight: 2.1511714932782646\n",
      "cia: 2.108259557249397\n",
      "prakash: 1.9925356557862446\n",
      "cop: 1.9166866942305292\n",
      "polic offic: 1.9040456304253066\n",
      "polic: 1.8418609244772561\n",
      "drug: 1.7664959450512412\n",
      "gabe: 1.5916543045801033\n",
      "minist: 1.576811516629089\n",
      "==== animation ====\n",
      "anim: 2.2729028330494496\n",
      "bug: 2.24534544053614\n",
      "kill: -1.8590274013296755\n",
      "cat: 1.8165281482958773\n",
      "daffi: 1.7007480302539295\n",
      "magic: 1.613071075275546\n",
      "pooh: 1.6050961920142817\n",
      "donald: 1.483892359909592\n",
      "human: 1.42473190075629\n",
      "jerri: 1.3606338219374896\n",
      "==== comedy ====\n",
      "kill: -2.7830302324655958\n",
      "rival: 2.37584194349544\n",
      "barri: 2.01102648942123\n",
      "riley: 1.857233055300335\n",
      "murder: -1.8422187360248305\n",
      "shop: 1.7567490416043114\n",
      "arriv: 1.664964852351757\n",
      "hometown: 1.6341815027575026\n",
      "party: 1.6175988728914121\n",
      "win: 1.5791803189602946\n",
      "==== crime ====\n",
      "crimin: 2.525988326846936\n",
      "suspect: 1.9196826347308786\n",
      "murder: 1.780019110140009\n",
      "nightclub: 1.7398407115517174\n",
      "robbery: 1.532851733743666\n",
      "chan: 1.3169433965826038\n",
      "crime: 1.3084245966115755\n",
      "franki: 1.2955723656588023\n",
      "polic: 1.2884458125424723\n",
      "diamond: 1.2710476678858174\n",
      "==== drama ====\n",
      "ill: 2.5139160058387926\n",
      "affair: 2.285423155673453\n",
      "dancer: 2.2031702536820816\n",
      "relationship: 2.105309961119729\n",
      "governor: 2.0158445100276485\n",
      "kill: -2.0148012520329726\n",
      "point: 1.939044529108863\n",
      "live: 1.7973320455244688\n",
      "husband: 1.7906687230632132\n",
      "london: 1.763026447985472\n",
      "==== horror ====\n",
      "blood: 2.9506807703382463\n",
      "ghost: 2.283752683361569\n",
      "corps: 2.254237462668742\n",
      "kill: 2.194247784507306\n",
      "horror: 2.087109705827925\n",
      "demon: 1.9123198063497604\n",
      "attack: 1.9048322779514422\n",
      "curs: 1.8959308174663074\n",
      "ritual: 1.8625328262233776\n",
      "haunt: 1.8265323009768297\n",
      "==== romance ====\n",
      "love: 3.051596902389447\n",
      "prem: 1.6298798328163817\n",
      "danc: 1.624363643106416\n",
      "nandini: 1.5388948981893649\n",
      "madhu: 1.4843783239065644\n",
      "rohit: 1.480530881483517\n",
      "meet: 1.467019150406935\n",
      "kill: -1.436030889809285\n",
      "karthik: 1.4052047750899639\n",
      "venu: 1.4035967101208944\n",
      "==== sci-fi ====\n",
      "alien: 2.452838330165867\n",
      "planet: 1.7277267357362742\n",
      "earth: 1.7276187565599814\n",
      "scientist: 1.5607299496465246\n",
      "space: 1.312706917262559\n",
      "militari: 1.2959004490075907\n",
      "women: 1.2389330404050807\n",
      "cave: 1.0767172766754511\n",
      "glenn: 0.9066500303928638\n",
      "librari: 0.8994961724359507\n",
      "==== western ====\n",
      "ranch: 2.984968441361936\n",
      "outlaw: 2.8849661811954763\n",
      "rancher: 2.656569798587038\n",
      "cattl: 2.379536767068146\n",
      "saloon: 2.2616646683258215\n",
      "apach: 2.2271019515602375\n",
      "ride: 2.2020684425059356\n",
      "railroad: 2.1915383567991378\n",
      "indian: 2.146794030281162\n",
      "bandit: 2.10354856356628\n"
     ]
    }
   ],
   "source": [
    "# Print available classes\n",
    "\n",
    "print(clf.classes_.shape)\n",
    "    \n",
    "for idx, class_names in enumerate(clf.classes_):\n",
    "    print(f\"==== {class_names} ====\")\n",
    "    class_coefficients = clf.estimators_[idx].coef_[0]\n",
    "    \n",
    "    feature_importance = list(zip(tfidf_vectorizer.get_feature_names_out(), class_coefficients))\n",
    "    sorted_features = sorted(feature_importance, key=lambda x: abs(x[1]), reverse=True)\n",
    "    top_n = 10\n",
    "    most_important_features = sorted_features[:top_n]\n",
    "    for feature, importance in most_important_features:\n",
    "        print(f\"{feature}: {importance}\")\n"
   ]
  },
  {
   "cell_type": "markdown",
   "metadata": {},
   "source": [
    "## Kfold Validation on Train Set"
   ]
  },
  {
   "cell_type": "code",
   "execution_count": 27,
   "metadata": {},
   "outputs": [
    {
     "name": "stdout",
     "output_type": "stream",
     "text": [
      "Accuracy: 0.61 ± 0.011575836902790236\n",
      "Precision: 0.6048592632513433 ± 0.013961732066700988\n",
      "Recall: 0.61 ± 0.011575836902790236\n",
      "F1-Score: 0.6041980413230765 ± 0.014128737557797479\n"
     ]
    }
   ],
   "source": [
    "from sklearn.model_selection import cross_validate, KFold\n",
    "from sklearn.metrics import make_scorer, accuracy_score, precision_score, recall_score, f1_score\n",
    "\n",
    "# Initialize k-Fold Cross-Validation\n",
    "k = 5  # Set number of folds\n",
    "random_state = 42\n",
    "kf = KFold(n_splits=k, shuffle=True, random_state=random_state)\n",
    "\n",
    "# Initialize dictionary to store results\n",
    "scoring = {\n",
    "    'accuracy': make_scorer(accuracy_score),\n",
    "    'precision': make_scorer(precision_score, average='weighted', zero_division=1),\n",
    "    'recall': make_scorer(recall_score, average='weighted', zero_division=1),\n",
    "    'f1': make_scorer(f1_score, average='weighted', zero_division=1)\n",
    "}\n",
    "\n",
    "# Perform k-fold cross-validation using cross_validate\n",
    "results = cross_validate(clf, X, df['genre'], cv=kf, scoring=scoring, return_train_score=True)\n",
    "\n",
    "# Display results for each metric\n",
    "print(f\"Accuracy: {results['test_accuracy'].mean()} ± {results['test_accuracy'].std()}\")\n",
    "print(f\"Precision: {results['test_precision'].mean()} ± {results['test_precision'].std()}\")\n",
    "print(f\"Recall: {results['test_recall'].mean()} ± {results['test_recall'].std()}\")\n",
    "print(f\"F1-Score: {results['test_f1'].mean()} ± {results['test_f1'].std()}\")"
   ]
  },
  {
   "cell_type": "markdown",
   "metadata": {},
   "source": [
    "## Compare with Test Set and Save Results"
   ]
  },
  {
   "cell_type": "code",
   "execution_count": 28,
   "metadata": {},
   "outputs": [],
   "source": [
    "# 7. Load test data (without genre labels)\n",
    "test_file = open(\"test_no_labels.txt\", \"r\", encoding=\"utf-8\")\n",
    "test_data = test_file.readlines()\n",
    "\n",
    "# Preprocess the test data similar to the training data\n",
    "x_test_no_labels_processed = [processSentence(x) for x in test_data]\n",
    "\n",
    "# Transform the test data into TF-IDF vectors\n",
    "X_test_no_labels = tfidf_vectorizer.transform(x_test_no_labels_processed).toarray()\n",
    "\n",
    "# 8. Predict the genres for the test data\n",
    "y_pred_test_no_labels = clf.predict(X_test_no_labels)\n",
    "\n",
    "# 9. Save the predictions to results.txt\n",
    "with open(\"results.txt\", \"w\", encoding=\"utf-8\") as results_file:\n",
    "    for prediction in y_pred_test_no_labels:\n",
    "        results_file.write(prediction + \"\\n\")"
   ]
  }
 ],
 "metadata": {
  "kernelspec": {
   "display_name": "Python 3",
   "language": "python",
   "name": "python3"
  },
  "language_info": {
   "codemirror_mode": {
    "name": "ipython",
    "version": 3
   },
   "file_extension": ".py",
   "mimetype": "text/x-python",
   "name": "python",
   "nbconvert_exporter": "python",
   "pygments_lexer": "ipython3",
   "version": "3.10.10"
  }
 },
 "nbformat": 4,
 "nbformat_minor": 2
}
