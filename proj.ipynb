{
 "cells": [
  {
   "cell_type": "markdown",
   "metadata": {},
   "source": [
    "\n",
    "## 1. Imports"
   ]
  },
  {
   "cell_type": "code",
   "execution_count": 77,
   "metadata": {},
   "outputs": [],
   "source": [
    "import numpy as np\n",
    "import pandas as pd\n",
    "from sklearn.feature_extraction.text import TfidfTransformer\n",
    "from sklearn.feature_extraction.text import CountVectorizer\n",
    "from sklearn.feature_extraction.text import TfidfVectorizer\n",
    "from sklearn.model_selection import train_test_split\n",
    "from sklearn.preprocessing import LabelEncoder\n",
    "import nltk\n",
    "import re\n",
    "from nltk.stem import PorterStemmer\n",
    "from sklearn.naive_bayes import GaussianNB\n",
    "from sklearn.naive_bayes import MultinomialNB\n",
    "from sklearn import svm\n",
    "from sklearn.metrics import classification_report"
   ]
  },
  {
   "cell_type": "markdown",
   "metadata": {},
   "source": [
    "## 2. Dataset load"
   ]
  },
  {
   "cell_type": "code",
   "execution_count": 106,
   "metadata": {},
   "outputs": [
    {
     "name": "stdout",
     "output_type": "stream",
     "text": [
      "     genre                                               plot\n",
      "0  romance  Sekhar (Tarun) is a graduate from IIM and work...\n",
      "1   horror  Kris Fowles (Katie Cassidy) goes to the Spring...\n",
      "2   horror  Cynthia is traumatized by the death of her bab...\n",
      "3    crime  Four friends, Gangu (Jackie Shroff), Abdul (Na...\n",
      "4    drama  Crisis in a middle-class family when the son f...\n"
     ]
    }
   ],
   "source": [
    "file = open(\"train.txt\", \"r\", encoding=\"utf-8\")\n",
    "data = file.readlines()\n",
    "\n",
    "data = [i.split(\"\\t\") for i in data]\n",
    "\n",
    "df = [[row[2], row[4]] for row in data]  # Extract 2nd and 4th elements\n",
    "df = pd.DataFrame(df, columns = ['genre', 'plot'])\n",
    "print(df.head())\n"
   ]
  },
  {
   "cell_type": "markdown",
   "metadata": {},
   "source": [
    "## 3. Pre-processing"
   ]
  },
  {
   "cell_type": "code",
   "execution_count": 107,
   "metadata": {},
   "outputs": [
    {
     "name": "stdout",
     "output_type": "stream",
     "text": [
      "['action', 'animation', 'comedy', 'crime', 'drama', 'horror', 'romance', 'sci-fi', 'western']\n",
      "sekhar (tarun) is a graduat from iim and work as a busi manag in a firm in hyderabad. he meet amar varma (siva balaji) in a busi parti who run a compani name varma industri in germany. when the parti is over, sekhar accident kill amar with hi car. sekhar' friend sunil (sunil) save him by eras the evidence, but sekhar feel guilti even after six months. he goe to germani along with sunil to visit amar' family. they find that their busi is in a bad condit and want to help them by reviv it with hi busi skills. priya (shriya), who wa engag to amar earlier is tri her level best to run the business, but helpless to run it smoothly. sekhar introduc himself to priya and offer hi help to reviv the business. the remain stori is about how sekhar help the busi grow and win priya' heart in that process. \n"
     ]
    }
   ],
   "source": [
    "porter_stemmer=PorterStemmer()\n",
    "def processSentence(s):\n",
    "    words=re.split(\"\\\\s+\",s)\n",
    "    stemmed_words=[porter_stemmer.stem(word=w) for w in words]\n",
    "    return ' '.join(stemmed_words)\n",
    "\n",
    "x_processed = [processSentence(x) for x in df[\"plot\"]]\n",
    "\n",
    "labels = np.unique(df[\"genre\"]).tolist()\n",
    "\n",
    "print(labels)\n",
    "print(x_processed[0])\n"
   ]
  },
  {
   "cell_type": "markdown",
   "metadata": {},
   "source": [
    "## 4. Create Vectors"
   ]
  },
  {
   "cell_type": "code",
   "execution_count": 108,
   "metadata": {},
   "outputs": [
    {
     "name": "stdout",
     "output_type": "stream",
     "text": [
      "[[0. 0. 0. ... 0. 0. 0.]\n",
      " [0. 0. 0. ... 0. 0. 0.]\n",
      " [0. 0. 0. ... 0. 0. 0.]\n",
      " ...\n",
      " [0. 0. 0. ... 0. 0. 0.]\n",
      " [0. 0. 0. ... 0. 0. 0.]\n",
      " [0. 0. 0. ... 0. 0. 0.]]\n"
     ]
    }
   ],
   "source": [
    "tfidf_vectorizer = TfidfVectorizer(ngram_range=(1,3), stop_words=[\"the\",\"is\",\"and\"],min_df=0.01)\n",
    "\n",
    "X = tfidf_vectorizer.fit_transform(x_processed).toarray()\n"
   ]
  },
  {
   "cell_type": "markdown",
   "metadata": {},
   "source": [
    "## Train/test split\n"
   ]
  },
  {
   "cell_type": "code",
   "execution_count": 109,
   "metadata": {},
   "outputs": [],
   "source": [
    "indices = range(len(df))\n",
    "train_indices, test_test, y_train, y_test = train_test_split(indices, df[\"genre\"], test_size=0.2, random_state=42)\n",
    "\n",
    "X_train,X_test = X[train_indices],X[test_test]"
   ]
  },
  {
   "cell_type": "markdown",
   "metadata": {},
   "source": [
    "## Train with classic classifiers"
   ]
  },
  {
   "cell_type": "code",
   "execution_count": null,
   "metadata": {},
   "outputs": [
    {
     "name": "stdout",
     "output_type": "stream",
     "text": [
      "==== SVM ====\n",
      "Resultados com tfidf\n"
     ]
    }
   ],
   "source": [
    "print(\"==== SVM ====\")\n",
    "clf = svm.SVC(kernel='linear') # kernel{‘linear’, ‘poly’, ‘rbf’, ‘sigmoid’, ‘precomputed’}\n",
    "\n",
    "print(\"Resultados com tfidf\")\n",
    "clf.fit(X_train, y_train)\n",
    "y_pred = clf.predict(X_test)\n",
    "print(classification_report(y_pred = y_pred, y_true = y_test, labels=labels, zero_division=1.0))"
   ]
  }
 ],
 "metadata": {
  "kernelspec": {
   "display_name": "Python 3",
   "language": "python",
   "name": "python3"
  },
  "language_info": {
   "codemirror_mode": {
    "name": "ipython",
    "version": 3
   },
   "file_extension": ".py",
   "mimetype": "text/x-python",
   "name": "python",
   "nbconvert_exporter": "python",
   "pygments_lexer": "ipython3",
   "version": "3.11.9"
  }
 },
 "nbformat": 4,
 "nbformat_minor": 2
}
