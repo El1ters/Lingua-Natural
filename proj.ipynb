{
 "cells": [
  {
   "cell_type": "markdown",
   "metadata": {},
   "source": [
    "\n",
    "## 1. Imports"
   ]
  },
  {
   "cell_type": "code",
   "execution_count": 1,
   "metadata": {},
   "outputs": [],
   "source": [
    "import numpy as np\n",
    "import pandas as pd\n",
    "from sklearn.feature_extraction.text import TfidfTransformer\n",
    "from sklearn.feature_extraction.text import CountVectorizer\n",
    "from sklearn.feature_extraction.text import TfidfVectorizer\n",
    "from sklearn.model_selection import train_test_split\n",
    "from sklearn.preprocessing import LabelEncoder\n",
    "import nltk\n",
    "import re\n",
    "from nltk.stem import PorterStemmer\n",
    "from sklearn.naive_bayes import GaussianNB\n",
    "from sklearn.naive_bayes import MultinomialNB\n",
    "from sklearn import svm\n",
    "from sklearn.metrics import classification_report"
   ]
  },
  {
   "cell_type": "markdown",
   "metadata": {},
   "source": [
    "## 2. Dataset load"
   ]
  },
  {
   "cell_type": "code",
   "execution_count": 2,
   "metadata": {},
   "outputs": [
    {
     "name": "stdout",
     "output_type": "stream",
     "text": [
      "     genre                                               plot\n",
      "0  romance  Sekhar (Tarun) is a graduate from IIM and work...\n",
      "1   horror  Kris Fowles (Katie Cassidy) goes to the Spring...\n",
      "2   horror  Cynthia is traumatized by the death of her bab...\n",
      "3    crime  Four friends, Gangu (Jackie Shroff), Abdul (Na...\n",
      "4    drama  Crisis in a middle-class family when the son f...\n"
     ]
    }
   ],
   "source": [
    "#FILE_NAME = \"train_subset_1000.txt\"\n",
    "#FILE_NAME = \"train_subset_2500.txt\"\n",
    "FILE_NAME = \"train_subset_5000.txt\"\n",
    "#FILE_NAME = \"train.txt\"\n",
    "file = open(FILE_NAME, \"r\", encoding=\"utf-8\")\n",
    "data = file.readlines()\n",
    "\n",
    "data = [i.split(\"\\t\") for i in data]\n",
    "\n",
    "df = [[row[2], row[4]] for row in data]  # Extract 2nd and 4th elements\n",
    "df = pd.DataFrame(df, columns = ['genre', 'plot'])\n",
    "print(df.head())\n"
   ]
  },
  {
   "cell_type": "markdown",
   "metadata": {},
   "source": [
    "## 3. Pre-processing"
   ]
  },
  {
   "cell_type": "code",
   "execution_count": 3,
   "metadata": {},
   "outputs": [
    {
     "name": "stdout",
     "output_type": "stream",
     "text": [
      "['action', 'animation', 'comedy', 'crime', 'drama', 'horror', 'romance', 'sci-fi', 'western']\n"
     ]
    }
   ],
   "source": [
    "porter_stemmer=PorterStemmer()\n",
    "def processSentence(s):\n",
    "    words=re.split(\"\\\\s+\",s)\n",
    "    stemmed_words=[porter_stemmer.stem(word=w) for w in words]\n",
    "    return ' '.join(stemmed_words)\n",
    "\n",
    "x_processed = [processSentence(x) for x in df[\"plot\"]]\n",
    "\n",
    "labels = np.unique(df[\"genre\"]).tolist()\n",
    "\n",
    "print(labels)\n"
   ]
  },
  {
   "cell_type": "markdown",
   "metadata": {},
   "source": [
    "## 4. Create Vectors"
   ]
  },
  {
   "cell_type": "code",
   "execution_count": 4,
   "metadata": {},
   "outputs": [],
   "source": [
    "tfidf_vectorizer = TfidfVectorizer(ngram_range=(1,3), stop_words='english', min_df=0.001, max_features=2500)\n",
    "count_vectorizer = CountVectorizer(ngram_range=(1,3), stop_words ='english', min_df=0.001, max_features=2500)\n",
    "\n",
    "X = tfidf_vectorizer.fit_transform(x_processed).toarray()\n",
    "Z = count_vectorizer.fit_transform(x_processed).toarray()"
   ]
  },
  {
   "cell_type": "markdown",
   "metadata": {},
   "source": [
    "## Train/test split\n"
   ]
  },
  {
   "cell_type": "code",
   "execution_count": 5,
   "metadata": {},
   "outputs": [
    {
     "name": "stdout",
     "output_type": "stream",
     "text": [
      "range(0, 8041)\n"
     ]
    }
   ],
   "source": [
    "indices = range(len(df))\n",
    "print(indices)\n",
    "train_indices, test_test, y_train, y_test = train_test_split(indices, df[\"genre\"], test_size=0.2, random_state=42)\n",
    "\n",
    "X_train,X_test = X[train_indices],X[test_test]\n",
    "Z_train,Z_test = Z[train_indices],Z[test_test]"
   ]
  },
  {
   "cell_type": "markdown",
   "metadata": {},
   "source": [
    "## Train with classic classifiers"
   ]
  },
  {
   "cell_type": "code",
   "execution_count": 6,
   "metadata": {},
   "outputs": [
    {
     "name": "stdout",
     "output_type": "stream",
     "text": [
      "==== SVM ====\n",
      "Resultados com tfidf\n",
      "              precision    recall  f1-score   support\n",
      "\n",
      "      action       0.58      0.59      0.59       202\n",
      "   animation       0.81      0.68      0.74       115\n",
      "      comedy       0.49      0.48      0.49       223\n",
      "       crime       0.59      0.38      0.46       108\n",
      "       drama       0.51      0.56      0.53       319\n",
      "      horror       0.73      0.83      0.78       223\n",
      "     romance       0.59      0.52      0.55       186\n",
      "      sci-fi       0.50      0.44      0.47        39\n",
      "     western       0.86      0.93      0.89       194\n",
      "\n",
      "    accuracy                           0.62      1609\n",
      "   macro avg       0.63      0.60      0.61      1609\n",
      "weighted avg       0.62      0.62      0.62      1609\n",
      "\n"
     ]
    }
   ],
   "source": [
    "from sklearn.multiclass import OneVsRestClassifier\n",
    "\n",
    "print(\"==== SVM ====\")\n",
    "clf = OneVsRestClassifier(svm.SVC(kernel='linear')) # kernel{‘linear’, ‘poly’, ‘rbf’, ‘sigmoid’, ‘precomputed’}\n",
    "#clf = svm.SVC(kernel='linear') # kernel{‘linear’, ‘poly’, ‘rbf’, ‘sigmoid’, ‘precomputed’}\n",
    "\n",
    "print(\"Resultados com tfidf\")\n",
    "clf.fit(X_train, y_train)\n",
    "y_pred = clf.predict(X_test)\n",
    "print(classification_report(y_pred = y_pred, y_true = y_test, labels=labels, zero_division=1.))\n"
   ]
  },
  {
   "cell_type": "code",
   "execution_count": 7,
   "metadata": {},
   "outputs": [
    {
     "name": "stdout",
     "output_type": "stream",
     "text": [
      "(9,)\n",
      "==== action ====\n",
      "cia: 2.8021754711165308\n",
      "kill: 2.7102591602766744\n",
      "fight: 2.3630672845830403\n",
      "cop: 2.1778162361073443\n",
      "kidnap: 2.164113228953754\n",
      "reveng: 2.087059808568574\n",
      "terrorist: 2.0541809845544807\n",
      "elimin: 1.9373311329906275\n",
      "polic: 1.8995863062180611\n",
      "prakash: 1.8797506685098555\n",
      "==== animation ====\n",
      "bug: 2.831226288902737\n",
      "anim: 2.186765167236875\n",
      "kill: -2.1823134799872004\n",
      "daffi: 2.0740935524103072\n",
      "cat: 1.989470935205464\n",
      "conan: 1.9712058244142328\n",
      "king: 1.5491512073148843\n",
      "donald: 1.5390652663764965\n",
      "herd: 1.4688285668642365\n",
      "jerri: 1.4207498202024973\n",
      "==== comedy ====\n",
      "kill: -2.827987741312822\n",
      "cloth: 2.1059708661407024\n",
      "harold: 2.0730965165455864\n",
      "party: 2.0519030203664275\n",
      "policeman: 1.9457971113241168\n",
      "riley: 1.831411662357698\n",
      "murder: -1.7783065874608641\n",
      "death: -1.7604837323599403\n",
      "drunk: 1.7504530259616216\n",
      "dead: -1.7233867918783514\n",
      "==== crime ====\n",
      "crimin: 2.235474723076241\n",
      "detect: 2.1241909298015016\n",
      "suspect: 1.953302705416882\n",
      "murder: 1.8756132844646185\n",
      "dead: 1.8500345610594269\n",
      "polic: 1.7794661421588887\n",
      "blackmail: 1.7697340098310566\n",
      "robberi: 1.6801312375120978\n",
      "diamond: 1.474955042500787\n",
      "tip: 1.422506583120581\n",
      "==== drama ====\n",
      "affair: 3.043450463704409\n",
      "husband: 2.249822786883894\n",
      "kill: -2.240722509964145\n",
      "relationship: 2.1533834180007876\n",
      "child: 1.940469188264044\n",
      "london: 1.9299002148653015\n",
      "live: 1.8995670540392249\n",
      "freedom: 1.8334509681051916\n",
      "australia: 1.821531114879977\n",
      "fate: 1.816885645424664\n",
      "==== horror ====\n",
      "kill: 3.3162582244662016\n",
      "blood: 2.8225639836285428\n",
      "vampir: 2.7563752707668336\n",
      "ghost: 2.672415943984981\n",
      "strang: 2.411182587562464\n",
      "attack: 2.382080023003369\n",
      "curs: 2.3104067025499884\n",
      "werewolf: 2.2749745440286837\n",
      "spirit: 2.260554149144922\n",
      "bodi: 2.1698050107144042\n",
      "==== romance ====\n",
      "love: 4.198874620027546\n",
      "meet: 2.033506311507155\n",
      "feel: 1.938555117152161\n",
      "kill: -1.6221868814772196\n",
      "stori: 1.577103837312267\n",
      "happi: 1.505106084773556\n",
      "impress: 1.475615365015452\n",
      "vinod: 1.4561757121249916\n",
      "arun: 1.4087103155720868\n",
      "mona: 1.4000709719500488\n",
      "==== sci-fi ====\n",
      "planet: 2.320548404065405\n",
      "alien: 2.3171794268984294\n",
      "scientist: 2.160454932288694\n",
      "space: 2.1006985336213084\n",
      "earth: 1.7090531180919297\n",
      "women: 1.1899241009979495\n",
      "resist: 1.1892788876567923\n",
      "peopl: 1.0792353064106381\n",
      "nuclear: 1.0264324813536958\n",
      "moon: 1.0249754240956672\n",
      "==== western ====\n",
      "outlaw: 3.794540093120785\n",
      "rancher: 3.5808689180454727\n",
      "ranch: 3.3648280656609373\n",
      "ride: 2.7142422216061837\n",
      "cattl: 2.4748599290790856\n",
      "stagecoach: 2.391210012035306\n",
      "indian: 2.356320490915034\n",
      "cowboy: 2.3556164134338418\n",
      "railroad: 2.325066177594852\n",
      "saloon: 2.294685021446973\n"
     ]
    }
   ],
   "source": [
    "# Print available classes\n",
    "\n",
    "print(clf.classes_.shape)\n",
    "    \n",
    "for idx, class_names in enumerate(clf.classes_):\n",
    "    print(f\"==== {class_names} ====\")\n",
    "    class_coefficients = clf.estimators_[idx].coef_[0]\n",
    "    \n",
    "    feature_importance = list(zip(tfidf_vectorizer.get_feature_names_out(), class_coefficients))\n",
    "    sorted_features = sorted(feature_importance, key=lambda x: abs(x[1]), reverse=True)\n",
    "    top_n = 10\n",
    "    most_important_features = sorted_features[:top_n]\n",
    "    for feature, importance in most_important_features:\n",
    "        print(f\"{feature}: {importance}\")\n"
   ]
  },
  {
   "cell_type": "markdown",
   "metadata": {},
   "source": [
    "## Perform Kfold Cross-Validation on Train Set"
   ]
  },
  {
   "cell_type": "code",
   "execution_count": null,
   "metadata": {},
   "outputs": [],
   "source": [
    "from sklearn.model_selection import cross_validate, KFold\n",
    "from sklearn.metrics import make_scorer, accuracy_score, precision_score, recall_score, f1_score\n",
    "\n",
    "# Initialize k-Fold Cross-Validation\n",
    "k = 5  # Set number of folds\n",
    "random_state = 42\n",
    "kf = KFold(n_splits=k, shuffle=True, random_state=random_state)\n",
    "\n",
    "# Initialize dictionary to store results\n",
    "scoring = {\n",
    "    'accuracy': make_scorer(accuracy_score),\n",
    "    'precision': make_scorer(precision_score, average='weighted', zero_division=1),\n",
    "    'recall': make_scorer(recall_score, average='weighted', zero_division=1),\n",
    "    'f1': make_scorer(f1_score, average='weighted', zero_division=1)\n",
    "}\n",
    "\n",
    "# Perform k-fold cross-validation using cross_validate\n",
    "results = cross_validate(clf, X, df['genre'], cv=kf, scoring=scoring, return_train_score=True)\n",
    "\n",
    "# Display results for each metric\n",
    "print(f\"Accuracy: {results['test_accuracy'].mean()} ± {results['test_accuracy'].std()}\")\n",
    "print(f\"Precision: {results['test_precision'].mean()} ± {results['test_precision'].std()}\")\n",
    "print(f\"Recall: {results['test_recall'].mean()} ± {results['test_recall'].std()}\")\n",
    "print(f\"F1-Score: {results['test_f1'].mean()} ± {results['test_f1'].std()}\")"
   ]
  },
  {
   "cell_type": "markdown",
   "metadata": {},
   "source": [
    "## Compare with Test Set and Save Results"
   ]
  },
  {
   "cell_type": "code",
   "execution_count": 28,
   "metadata": {},
   "outputs": [],
   "source": [
    "# Load test data (without genre labels)\n",
    "test_file = open(\"test_no_labels.txt\", \"r\", encoding=\"utf-8\")\n",
    "test_data = test_file.readlines()\n",
    "\n",
    "# Preprocess the test data similar to the training data\n",
    "x_test_no_labels_processed = [processSentence(x) for x in test_data]\n",
    "\n",
    "# Transform the test data into TF-IDF vectors\n",
    "X_test_no_labels = tfidf_vectorizer.transform(x_test_no_labels_processed).toarray()\n",
    "\n",
    "# Predict the genres for the test data\n",
    "y_pred_test_no_labels = clf.predict(X_test_no_labels)\n",
    "\n",
    "# Save the predictions to a file\n",
    "with open(\"results.txt\", \"w\", encoding=\"utf-8\") as results_file:\n",
    "    for prediction in y_pred_test_no_labels:\n",
    "        results_file.write(prediction + \"\\n\")"
   ]
  }
 ],
 "metadata": {
  "kernelspec": {
   "display_name": "Python 3",
   "language": "python",
   "name": "python3"
  },
  "language_info": {
   "codemirror_mode": {
    "name": "ipython",
    "version": 3
   },
   "file_extension": ".py",
   "mimetype": "text/x-python",
   "name": "python",
   "nbconvert_exporter": "python",
   "pygments_lexer": "ipython3",
   "version": "3.10.10"
  }
 },
 "nbformat": 4,
 "nbformat_minor": 2
}
