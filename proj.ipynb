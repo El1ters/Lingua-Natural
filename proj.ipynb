{
 "cells": [
  {
   "cell_type": "markdown",
   "metadata": {},
   "source": [
    "\n",
    "## 1. Imports"
   ]
  },
  {
   "cell_type": "code",
   "execution_count": 57,
   "metadata": {},
   "outputs": [],
   "source": [
    "import numpy as np\n",
    "import pandas as pd\n",
    "from sklearn.feature_extraction.text import TfidfTransformer\n",
    "from sklearn.feature_extraction.text import CountVectorizer\n",
    "from sklearn.feature_extraction.text import TfidfVectorizer\n",
    "from sklearn.model_selection import train_test_split\n",
    "from sklearn.preprocessing import LabelEncoder\n",
    "import nltk\n",
    "import re\n",
    "from nltk.stem import PorterStemmer\n",
    "from sklearn.naive_bayes import GaussianNB\n",
    "from sklearn.naive_bayes import MultinomialNB\n",
    "from sklearn import svm\n",
    "from sklearn.metrics import classification_report"
   ]
  },
  {
   "cell_type": "markdown",
   "metadata": {},
   "source": [
    "## 2. Dataset load"
   ]
  },
  {
   "cell_type": "code",
   "execution_count": 74,
   "metadata": {},
   "outputs": [
    {
     "name": "stdout",
     "output_type": "stream",
     "text": [
      "     genre                                               plot\n",
      "0  romance  Sekhar (Tarun) is a graduate from IIM and work...\n",
      "1   horror  Kris Fowles (Katie Cassidy) goes to the Spring...\n",
      "2   horror  Cynthia is traumatized by the death of her bab...\n",
      "3    crime  Four friends, Gangu (Jackie Shroff), Abdul (Na...\n",
      "4    drama  Crisis in a middle-class family when the son f...\n"
     ]
    }
   ],
   "source": [
    "file = open(\"train.txt\", \"r\", encoding=\"utf-8\")\n",
    "data = file.readlines()\n",
    "\n",
    "data = [i.split(\"\\t\") for i in data]\n",
    "\n",
    "df = [[row[2], row[4]] for row in data]  # Extract 2nd and 4th elements\n",
    "df = pd.DataFrame(df, columns = ['genre', 'plot'])\n",
    "print(df.head())\n"
   ]
  },
  {
   "cell_type": "markdown",
   "metadata": {},
   "source": [
    "## 3. Pre-processing"
   ]
  },
  {
   "cell_type": "code",
   "execution_count": 75,
   "metadata": {},
   "outputs": [
    {
     "name": "stdout",
     "output_type": "stream",
     "text": [
      "['action', 'animation', 'comedy', 'crime', 'drama', 'horror', 'romance', 'sci-fi', 'western']\n"
     ]
    }
   ],
   "source": [
    "porter_stemmer=PorterStemmer()\n",
    "def processSentence(s):\n",
    "    words=re.split(\"\\\\s+\",s)\n",
    "    stemmed_words=[porter_stemmer.stem(word=w) for w in words]\n",
    "    return ' '.join(stemmed_words)\n",
    "\n",
    "x_processed = [processSentence(x) for x in df[\"plot\"]]\n",
    "\n",
    "labels = np.unique(df[\"genre\"]).tolist()\n",
    "\n",
    "print(labels)\n"
   ]
  },
  {
   "cell_type": "markdown",
   "metadata": {},
   "source": [
    "## 4. Create Vectors"
   ]
  },
  {
   "cell_type": "code",
   "execution_count": 86,
   "metadata": {},
   "outputs": [],
   "source": [
    "tfidf_vectorizer = TfidfVectorizer(ngram_range=(1,3), stop_words='english',min_df=0.001,max_features=2500)\n",
    "count_vectorizer = CountVectorizer(ngram_range=(1,3), stop_words = 'english' ,min_df=0.001,max_features=2500)\n",
    "\n",
    "X = tfidf_vectorizer.fit_transform(x_processed).toarray()\n",
    "Z = count_vectorizer.fit_transform(x_processed).toarray()\n"
   ]
  },
  {
   "cell_type": "markdown",
   "metadata": {},
   "source": [
    "## Train/test split\n"
   ]
  },
  {
   "cell_type": "code",
   "execution_count": 93,
   "metadata": {},
   "outputs": [
    {
     "name": "stdout",
     "output_type": "stream",
     "text": [
      "range(0, 8041)\n"
     ]
    }
   ],
   "source": [
    "indices = range(len(df))\n",
    "print(indices)\n",
    "train_indices, test_test, y_train, y_test = train_test_split(indices, df[\"genre\"], test_size=0.2, random_state=42)\n",
    "\n",
    "X_train,X_test = X[train_indices],X[test_test]\n",
    "Z_train,Z_test = Z[train_indices],Z[test_test]"
   ]
  },
  {
   "cell_type": "markdown",
   "metadata": {},
   "source": [
    "## Train with classic classifiers"
   ]
  },
  {
   "cell_type": "code",
   "execution_count": 132,
   "metadata": {},
   "outputs": [
    {
     "name": "stdout",
     "output_type": "stream",
     "text": [
      "==== SVM ====\n",
      "Resultados com tfidf\n",
      "              precision    recall  f1-score   support\n",
      "\n",
      "      action       0.58      0.59      0.59       202\n",
      "   animation       0.81      0.68      0.74       115\n",
      "      comedy       0.49      0.48      0.49       223\n",
      "       crime       0.59      0.38      0.46       108\n",
      "       drama       0.51      0.56      0.53       319\n",
      "      horror       0.73      0.83      0.78       223\n",
      "     romance       0.59      0.52      0.55       186\n",
      "      sci-fi       0.50      0.44      0.47        39\n",
      "     western       0.86      0.93      0.89       194\n",
      "\n",
      "    accuracy                           0.62      1609\n",
      "   macro avg       0.63      0.60      0.61      1609\n",
      "weighted avg       0.62      0.62      0.62      1609\n",
      "\n",
      "Resultados com CountVectorizer\n"
     ]
    }
   ],
   "source": [
    "from sklearn.multiclass import OneVsRestClassifier\n",
    "\n",
    "\n",
    "print(\"==== SVM ====\")\n",
    "clf = OneVsRestClassifier(svm.SVC(kernel='linear')) # kernel{‘linear’, ‘poly’, ‘rbf’, ‘sigmoid’, ‘precomputed’}\n",
    "#clf = svm.SVC(kernel='linear') # kernel{‘linear’, ‘poly’, ‘rbf’, ‘sigmoid’, ‘precomputed’}\n",
    "\n",
    "print(\"Resultados com tfidf\")\n",
    "clf.fit(X_train, y_train)\n",
    "y_pred = clf.predict(X_test)\n",
    "print(classification_report(y_pred = y_pred, y_true = y_test, labels=labels, zero_division=1.))\n",
    "\n",
    "print(\"Resultados com CountVectorizer\")\n",
    "\n",
    "\n"
   ]
  },
  {
   "cell_type": "code",
   "execution_count": 137,
   "metadata": {},
   "outputs": [
    {
     "name": "stdout",
     "output_type": "stream",
     "text": [
      "(9,)\n",
      "Unexpected exception formatting exception. Falling back to standard exception\n"
     ]
    },
    {
     "name": "stderr",
     "output_type": "stream",
     "text": [
      "Traceback (most recent call last):\n",
      "  File \"C:\\Users\\Utilizador\\AppData\\Local\\Packages\\PythonSoftwareFoundation.Python.3.11_qbz5n2kfra8p0\\LocalCache\\local-packages\\Python311\\site-packages\\IPython\\core\\interactiveshell.py\", line 3526, in run_code\n",
      "    exec(code_obj, self.user_global_ns, self.user_ns)\n",
      "  File \"C:\\Users\\Utilizador\\AppData\\Local\\Temp\\ipykernel_20232\\1469972885.py\", line 4, in <module>\n",
      "    print(clf.estimators_[0].coef_[1])\n",
      "          ~~~~~~~~~~~~~~~~~~~~~~~~^^^\n",
      "IndexError: index 1 is out of bounds for axis 0 with size 1\n",
      "\n",
      "During handling of the above exception, another exception occurred:\n",
      "\n",
      "Traceback (most recent call last):\n",
      "  File \"C:\\Users\\Utilizador\\AppData\\Local\\Packages\\PythonSoftwareFoundation.Python.3.11_qbz5n2kfra8p0\\LocalCache\\local-packages\\Python311\\site-packages\\IPython\\core\\interactiveshell.py\", line 2120, in showtraceback\n",
      "    stb = self.InteractiveTB.structured_traceback(\n",
      "          ^^^^^^^^^^^^^^^^^^^^^^^^^^^^^^^^^^^^^^^^\n",
      "  File \"C:\\Users\\Utilizador\\AppData\\Local\\Packages\\PythonSoftwareFoundation.Python.3.11_qbz5n2kfra8p0\\LocalCache\\local-packages\\Python311\\site-packages\\IPython\\core\\ultratb.py\", line 1435, in structured_traceback\n",
      "    return FormattedTB.structured_traceback(\n",
      "           ^^^^^^^^^^^^^^^^^^^^^^^^^^^^^^^^^\n",
      "  File \"C:\\Users\\Utilizador\\AppData\\Local\\Packages\\PythonSoftwareFoundation.Python.3.11_qbz5n2kfra8p0\\LocalCache\\local-packages\\Python311\\site-packages\\IPython\\core\\ultratb.py\", line 1326, in structured_traceback\n",
      "    return VerboseTB.structured_traceback(\n",
      "           ^^^^^^^^^^^^^^^^^^^^^^^^^^^^^^^\n",
      "  File \"C:\\Users\\Utilizador\\AppData\\Local\\Packages\\PythonSoftwareFoundation.Python.3.11_qbz5n2kfra8p0\\LocalCache\\local-packages\\Python311\\site-packages\\IPython\\core\\ultratb.py\", line 1173, in structured_traceback\n",
      "    formatted_exception = self.format_exception_as_a_whole(etype, evalue, etb, number_of_lines_of_context,\n",
      "                          ^^^^^^^^^^^^^^^^^^^^^^^^^^^^^^^^^^^^^^^^^^^^^^^^^^^^^^^^^^^^^^^^^^^^^^^^^^^^^^^^\n",
      "  File \"C:\\Users\\Utilizador\\AppData\\Local\\Packages\\PythonSoftwareFoundation.Python.3.11_qbz5n2kfra8p0\\LocalCache\\local-packages\\Python311\\site-packages\\IPython\\core\\ultratb.py\", line 1063, in format_exception_as_a_whole\n",
      "    self.get_records(etb, number_of_lines_of_context, tb_offset) if etb else []\n",
      "    ^^^^^^^^^^^^^^^^^^^^^^^^^^^^^^^^^^^^^^^^^^^^^^^^^^^^^^^^^^^^\n",
      "  File \"C:\\Users\\Utilizador\\AppData\\Local\\Packages\\PythonSoftwareFoundation.Python.3.11_qbz5n2kfra8p0\\LocalCache\\local-packages\\Python311\\site-packages\\IPython\\core\\ultratb.py\", line 1115, in get_records\n",
      "    style = stack_data.style_with_executing_node(style, self._tb_highlight)\n",
      "            ^^^^^^^^^^^^^^^^^^^^^^^^^^^^^^^^^^^^^^^^^^^^^^^^^^^^^^^^^^^^^^^\n",
      "  File \"C:\\Users\\Utilizador\\AppData\\Local\\Packages\\PythonSoftwareFoundation.Python.3.11_qbz5n2kfra8p0\\LocalCache\\local-packages\\Python311\\site-packages\\stack_data\\core.py\", line 455, in style_with_executing_node\n",
      "    class NewStyle(style):\n",
      "  File \"C:\\Users\\Utilizador\\AppData\\Local\\Packages\\PythonSoftwareFoundation.Python.3.11_qbz5n2kfra8p0\\LocalCache\\local-packages\\Python311\\site-packages\\pygments\\style.py\", line 91, in __new__\n",
      "    ndef[4] = colorformat(styledef[3:])\n",
      "              ^^^^^^^^^^^^^^^^^^^^^^^^^\n",
      "  File \"C:\\Users\\Utilizador\\AppData\\Local\\Packages\\PythonSoftwareFoundation.Python.3.11_qbz5n2kfra8p0\\LocalCache\\local-packages\\Python311\\site-packages\\pygments\\style.py\", line 58, in colorformat\n",
      "    assert False, \"wrong color format %r\" % text\n",
      "AssertionError: wrong color format 'ansiyellow'\n"
     ]
    }
   ],
   "source": [
    "# Print available classes\n",
    "\n",
    "print(clf.classes_.shape)\n",
    "    \n",
    "for idx, class_names in enumerate(clf.classes_):\n",
    "    print(f\"==== {class_names} ====\")\n",
    "    class_coefficients = clf.estimators_[idx].coef_[0]\n",
    "    \n",
    "    feature_importance = list(zip(tfidf_vectorizer.get_feature_names_out(), class_coefficients))\n",
    "    sorted_features = sorted(feature_importance, key=lambda x: abs(x[1]), reverse=True)\n",
    "    top_n = 10\n",
    "    most_important_features = sorted_features[:top_n]\n",
    "    for feature, importance in most_important_features:\n",
    "        print(f\"{feature}: {importance}\")\n"
   ]
  }
 ],
 "metadata": {
  "kernelspec": {
   "display_name": "Python 3",
   "language": "python",
   "name": "python3"
  },
  "language_info": {
   "codemirror_mode": {
    "name": "ipython",
    "version": 3
   },
   "file_extension": ".py",
   "mimetype": "text/x-python",
   "name": "python",
   "nbconvert_exporter": "python",
   "pygments_lexer": "ipython3",
   "version": "3.11.9"
  }
 },
 "nbformat": 4,
 "nbformat_minor": 2
}
