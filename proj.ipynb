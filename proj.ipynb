{
 "cells": [
  {
   "cell_type": "code",
   "execution_count": 6,
   "metadata": {},
   "outputs": [],
   "source": [
    "import numpy as np\n",
    "import pandas as pd\n",
    "from sklearn.feature_extraction.text import TfidfTransformer\n",
    "from sklearn.feature_extraction.text import CountVectorizer\n",
    "from sklearn.feature_extraction.text import TfidfVectorizer\n",
    "from sklearn.model_selection import train_test_split\n",
    "from sklearn.preprocessing import LabelEncoder\n",
    "import nltk\n",
    "import re\n",
    "from nltk.stem import PorterStemmer\n",
    "from sklearn.naive_bayes import GaussianNB\n",
    "from sklearn.naive_bayes import MultinomialNB\n",
    "from sklearn import svm\n",
    "from sklearn.metrics import classification_report"
   ]
  },
  {
   "cell_type": "code",
   "execution_count": 67,
   "metadata": {},
   "outputs": [
    {
     "name": "stdout",
     "output_type": "stream",
     "text": [
      "0       Sekhar (Tarun) is a graduate from IIM and work...\n",
      "1       Kris Fowles (Katie Cassidy) goes to the Spring...\n",
      "2       Cynthia is traumatized by the death of her bab...\n",
      "3       Four friends, Gangu (Jackie Shroff), Abdul (Na...\n",
      "4       Crisis in a middle-class family when the son f...\n",
      "                              ...                        \n",
      "8036    Dianne seems to have a happy family. She and h...\n",
      "8037    Three lifelong friends work the bars in 1980's...\n",
      "8038    City-based Ashok, who works as a Salesman in a...\n",
      "8039    The story starts with narration by Maddy (R. M...\n",
      "8040    In the British city of Everytown, businessman ...\n",
      "Name: plot, Length: 8041, dtype: object\n"
     ]
    }
   ],
   "source": [
    "file = open(\"train.txt\", \"r\", encoding=\"utf-8\")\n",
    "data = file.readlines()\n",
    "\n",
    "data = [i.split(\"\\t\") for i in data]\n",
    "\n",
    "df = [[row[2], row[4]] for row in data]  # Extract 2nd and 4th elements\n",
    "df = pd.DataFrame(df, columns = ['genre', 'plot'])\n",
    "print(df.head())\n"
   ]
  },
  {
   "cell_type": "code",
   "execution_count": 69,
   "metadata": {},
   "outputs": [
    {
     "name": "stdout",
     "output_type": "stream",
     "text": [
      "sekhar (tarun) is a graduat from iim and work as a busi manag in a firm in hyderabad. he meet amar varma (siva balaji) in a busi parti who run a compani name varma industri in germany. when the parti is over, sekhar accident kill amar with hi car. sekhar' friend sunil (sunil) save him by eras the evidence, but sekhar feel guilti even after six months. he goe to germani along with sunil to visit amar' family. they find that their busi is in a bad condit and want to help them by reviv it with hi busi skills. priya (shriya), who wa engag to amar earlier is tri her level best to run the business, but helpless to run it smoothly. sekhar introduc himself to priya and offer hi help to reviv the business. the remain stori is about how sekhar help the busi grow and win priya' heart in that process. \n"
     ]
    }
   ],
   "source": [
    "porter_stemmer=PorterStemmer()\n",
    "def processSentence(s):\n",
    "    words=re.split(\"\\\\s+\",s)\n",
    "    stemmed_words=[porter_stemmer.stem(word=w) for w in words]\n",
    "    return ' '.join(stemmed_words)\n",
    "\n",
    "x_processed = [processSentence(x) for x in df[\"plot\"]]\n",
    "\n",
    "print(x_processed[0])\n"
   ]
  }
 ],
 "metadata": {
  "kernelspec": {
   "display_name": "Python 3",
   "language": "python",
   "name": "python3"
  },
  "language_info": {
   "codemirror_mode": {
    "name": "ipython",
    "version": 3
   },
   "file_extension": ".py",
   "mimetype": "text/x-python",
   "name": "python",
   "nbconvert_exporter": "python",
   "pygments_lexer": "ipython3",
   "version": "3.11.9"
  }
 },
 "nbformat": 4,
 "nbformat_minor": 2
}
